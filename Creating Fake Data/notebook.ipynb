{
 "cells": [
  {
   "cell_type": "code",
   "execution_count": 1,
   "metadata": {},
   "outputs": [],
   "source": [
    "from faker import Faker\n",
    "import pandas as pd"
   ]
  },
  {
   "cell_type": "code",
   "execution_count": 2,
   "metadata": {},
   "outputs": [
    {
     "name": "stdout",
     "output_type": "stream",
     "text": [
      "                             job        company          ssn  \\\n",
      "0                     Counsellor  Garrison-King  018-77-3421   \n",
      "1  Clinical molecular geneticist    Park-Medina  727-40-0927   \n",
      "2       Plant breeder/geneticist    Arias-Patel  212-02-5597   \n",
      "3     Geophysical data processor    Johnson Ltd  220-27-2794   \n",
      "4             Investment analyst     Wright Ltd  411-32-8676   \n",
      "\n",
      "                                         residence  \\\n",
      "0       442 Fox Crest\\nEast Carolynville, OR 26306   \n",
      "1   902 Rodgers Hill\\nSouth Clarencetown, GU 91512   \n",
      "2  92330 Kathleen Views\\nWest Jasonshire, SD 37661   \n",
      "3  75370 Stephanie Meadow\\nCuevasborough, IA 40544   \n",
      "4                 Unit 3692 Box 5379\\nDPO AA 63131   \n",
      "\n",
      "             current_location blood_group  \\\n",
      "0    (-73.223427, 163.323130)         AB+   \n",
      "1  (-33.8794255, -158.975913)          B+   \n",
      "2    (15.5158315, 158.354198)         AB+   \n",
      "3    (-56.0898695, 13.448807)          O+   \n",
      "4     (-23.125857, 89.592054)          A+   \n",
      "\n",
      "                                             website         username  \\\n",
      "0  [http://choi.com/, http://vasquez.com/, https:...      shanedillon   \n",
      "1       [http://harrison.biz/, http://robinson.com/]        melanie10   \n",
      "2                        [https://www.lawrence.com/]  clintonmcknight   \n",
      "3                           [http://www.booker.com/]        wmcdowell   \n",
      "4  [http://www.parker-vance.com/, https://www.gri...          david49   \n",
      "\n",
      "               name sex                                            address  \\\n",
      "0     Kenneth Ewing   M  16395 Cochran Mountain\\nSouth Vanessaville, WY...   \n",
      "1      Brenda Reyes   F   378 Stevenson Village\\nLake Katiehaven, RI 45122   \n",
      "2     James Spencer   M  5021 Scott Rue Apt. 152\\nLake Andrewton, MT 07154   \n",
      "3  Jessica Castillo   F           8047 Kara Landing\\nSandraburgh, KY 60451   \n",
      "4      Emily Mccall   F         400 Wilson Springs\\nRobertsburgh, NH 03916   \n",
      "\n",
      "                      mail   birthdate  \n",
      "0        wwilson@gmail.com  1977-11-17  \n",
      "1   tylercombs@hotmail.com  1936-11-07  \n",
      "2       kimroger@gmail.com  1913-01-01  \n",
      "3         xbrown@gmail.com  1937-09-26  \n",
      "4  matthewwilson@yahoo.com  1925-08-20  \n"
     ]
    }
   ],
   "source": [
    "fake = Faker()\n",
    "data = [fake.profile() for i in range(50)]\n",
    "data = pd.DataFrame(data)\n",
    "print(data.head(5))"
   ]
  },
  {
   "cell_type": "code",
   "execution_count": 3,
   "metadata": {},
   "outputs": [
    {
     "name": "stdout",
     "output_type": "stream",
     "text": [
      "<class 'pandas.core.frame.DataFrame'>\n",
      "RangeIndex: 50 entries, 0 to 49\n",
      "Data columns (total 13 columns):\n",
      " #   Column            Non-Null Count  Dtype \n",
      "---  ------            --------------  ----- \n",
      " 0   job               50 non-null     object\n",
      " 1   company           50 non-null     object\n",
      " 2   ssn               50 non-null     object\n",
      " 3   residence         50 non-null     object\n",
      " 4   current_location  50 non-null     object\n",
      " 5   blood_group       50 non-null     object\n",
      " 6   website           50 non-null     object\n",
      " 7   username          50 non-null     object\n",
      " 8   name              50 non-null     object\n",
      " 9   sex               50 non-null     object\n",
      " 10  address           50 non-null     object\n",
      " 11  mail              50 non-null     object\n",
      " 12  birthdate         50 non-null     object\n",
      "dtypes: object(13)\n",
      "memory usage: 5.2+ KB\n"
     ]
    }
   ],
   "source": [
    "data.info()"
   ]
  }
 ],
 "metadata": {
  "kernelspec": {
   "display_name": "dataanalysis",
   "language": "python",
   "name": "python3"
  },
  "language_info": {
   "codemirror_mode": {
    "name": "ipython",
    "version": 3
   },
   "file_extension": ".py",
   "mimetype": "text/x-python",
   "name": "python",
   "nbconvert_exporter": "python",
   "pygments_lexer": "ipython3",
   "version": "3.10.13"
  }
 },
 "nbformat": 4,
 "nbformat_minor": 2
}
