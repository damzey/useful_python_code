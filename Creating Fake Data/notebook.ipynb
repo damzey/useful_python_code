{
 "cells": [
  {
   "cell_type": "code",
   "execution_count": 1,
   "metadata": {},
   "outputs": [],
   "source": [
    "from faker import Faker\n",
    "import pandas as pd"
   ]
  },
  {
   "cell_type": "code",
   "execution_count": 2,
   "metadata": {},
   "outputs": [
    {
     "name": "stdout",
     "output_type": "stream",
     "text": [
      "                                job                       company  \\\n",
      "0              Licensed conveyancer  Jackson, Salazar and Johnson   \n",
      "1                  Technical brewer  Mcdaniel, Griffin and Miller   \n",
      "2                   Event organiser                     White Inc   \n",
      "3  Surveyor, commercial/residential                Sanford-Phelps   \n",
      "4                        Astronomer         Willis, Young and Lee   \n",
      "\n",
      "           ssn                                          residence  \\\n",
      "0  885-84-9487  10604 Sellers Lights Suite 484\\nJonesmouth, PR...   \n",
      "1  283-74-4055  92264 Randy Spurs Suite 022\\nPort Christina, N...   \n",
      "2  527-38-3099              964 Ashley Spurs\\nMunozport, NH 91375   \n",
      "3  543-17-8996         13536 Kimberly Views\\nPriceburgh, WI 92679   \n",
      "4  679-51-3148                   PSC 3461, Box 5972\\nAPO AE 17456   \n",
      "\n",
      "           current_location blood_group  \\\n",
      "0      (4.401154, 6.249535)         AB-   \n",
      "1   (-24.110131, 99.874617)         AB+   \n",
      "2   (89.636565, 172.999010)          B+   \n",
      "3  (-45.5755825, 98.653477)          O+   \n",
      "4     (28.984728, 4.903719)          B+   \n",
      "\n",
      "                                             website      username  \\\n",
      "0  [https://www.johnston.com/, http://www.west-go...     oschwartz   \n",
      "1  [http://li-small.com/, https://oneal.com/, htt...        obrown   \n",
      "2  [https://woods.com/, https://www.taylor-taylor...    adamgarcia   \n",
      "3                     [http://mccarthy-turner.info/]  mariahmartin   \n",
      "4  [http://www.saunders.info/, https://hernandez....        psalas   \n",
      "\n",
      "              name sex                                            address  \\\n",
      "0  Michelle Barber   F  2056 Contreras Overpass Apt. 580\\nCasefurt, OK...   \n",
      "1    George Gibson   M   128 Stone Park Suite 091\\nKristenmouth, NY 56358   \n",
      "2     Sara Schmidt   F              7653 Sally Groves\\nGregfort, CO 54476   \n",
      "3    Cynthia White   F                   PSC 0537, Box 4206\\nAPO AA 93144   \n",
      "4     Stacy Walker   F      4777 Julia Spurs Apt. 644\\nNew Gina, OK 76761   \n",
      "\n",
      "                        mail   birthdate  \n",
      "0       lucasjames@yahoo.com  1909-08-30  \n",
      "1      moodyshawna@gmail.com  2001-05-02  \n",
      "2           olee@hotmail.com  2002-08-02  \n",
      "3  jenniferramirez@gmail.com  1973-11-11  \n",
      "4   morrisfernando@yahoo.com  2017-06-30  \n"
     ]
    }
   ],
   "source": [
    "fake = Faker()\n",
    "data = [fake.profile() for i in range(50)]\n",
    "data = pd.DataFrame(data)\n",
    "print(data.head(5))"
   ]
  },
  {
   "cell_type": "code",
   "execution_count": 3,
   "metadata": {},
   "outputs": [
    {
     "name": "stdout",
     "output_type": "stream",
     "text": [
      "<class 'pandas.core.frame.DataFrame'>\n",
      "RangeIndex: 50 entries, 0 to 49\n",
      "Data columns (total 13 columns):\n",
      " #   Column            Non-Null Count  Dtype \n",
      "---  ------            --------------  ----- \n",
      " 0   job               50 non-null     object\n",
      " 1   company           50 non-null     object\n",
      " 2   ssn               50 non-null     object\n",
      " 3   residence         50 non-null     object\n",
      " 4   current_location  50 non-null     object\n",
      " 5   blood_group       50 non-null     object\n",
      " 6   website           50 non-null     object\n",
      " 7   username          50 non-null     object\n",
      " 8   name              50 non-null     object\n",
      " 9   sex               50 non-null     object\n",
      " 10  address           50 non-null     object\n",
      " 11  mail              50 non-null     object\n",
      " 12  birthdate         50 non-null     object\n",
      "dtypes: object(13)\n",
      "memory usage: 5.2+ KB\n"
     ]
    }
   ],
   "source": [
    "data.info()"
   ]
  }
 ],
 "metadata": {
  "kernelspec": {
   "display_name": "dataanalysis",
   "language": "python",
   "name": "python3"
  },
  "language_info": {
   "codemirror_mode": {
    "name": "ipython",
    "version": 3
   },
   "file_extension": ".py",
   "mimetype": "text/x-python",
   "name": "python",
   "nbconvert_exporter": "python",
   "pygments_lexer": "ipython3",
   "version": "3.10.13"
  }
 },
 "nbformat": 4,
 "nbformat_minor": 2
}
