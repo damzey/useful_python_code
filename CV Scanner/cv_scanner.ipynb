{
 "cells": [
  {
   "cell_type": "code",
   "execution_count": 2,
   "metadata": {},
   "outputs": [],
   "source": [
    "from pyresparser import ResumeParser"
   ]
  },
  {
   "cell_type": "code",
   "execution_count": 3,
   "metadata": {},
   "outputs": [],
   "source": [
    "def scan_resume(resume):\n",
    "    from resume_parser import resumeparse\n",
    "    data = resumeparse.read_file(resume)\n",
    "    for i, j in data.items():\n",
    "        print(f\"{i}:>>{j}\")"
   ]
  }
 ],
 "metadata": {
  "kernelspec": {
   "display_name": "randomprojects",
   "language": "python",
   "name": "python3"
  },
  "language_info": {
   "codemirror_mode": {
    "name": "ipython",
    "version": 3
   },
   "file_extension": ".py",
   "mimetype": "text/x-python",
   "name": "python",
   "nbconvert_exporter": "python",
   "pygments_lexer": "ipython3",
   "version": "3.10.13"
  }
 },
 "nbformat": 4,
 "nbformat_minor": 2
}
